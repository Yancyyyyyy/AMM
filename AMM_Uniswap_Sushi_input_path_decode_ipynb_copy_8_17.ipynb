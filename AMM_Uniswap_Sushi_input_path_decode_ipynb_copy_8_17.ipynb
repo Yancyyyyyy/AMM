{
  "nbformat": 4,
  "nbformat_minor": 0,
  "metadata": {
    "colab": {
      "name": "“AMM_Uniswap_Sushi_input_path_decode.ipynb”copy 8/17",
      "provenance": [],
      "collapsed_sections": [],
      "machine_shape": "hm",
      "include_colab_link": true
    },
    "kernelspec": {
      "name": "python3",
      "display_name": "Python 3"
    },
    "language_info": {
      "name": "python"
    }
  },
  "cells": [
    {
      "cell_type": "markdown",
      "metadata": {
        "id": "view-in-github",
        "colab_type": "text"
      },
      "source": [
        "<a href=\"https://colab.research.google.com/github/Yancyyyyyy/AMM/blob/main/AMM_Uniswap_Sushi_input_path_decode_ipynb_copy_8_17.ipynb\" target=\"_parent\"><img src=\"https://colab.research.google.com/assets/colab-badge.svg\" alt=\"Open In Colab\"/></a>"
      ]
    },
    {
      "cell_type": "code",
      "metadata": {
        "id": "zzG9P4Tw4tfz",
        "colab": {
          "base_uri": "https://localhost:8080/",
          "height": 1000
        },
        "outputId": "79524ffa-c036-4048-cc06-519ff4c7203b"
      },
      "source": [
        "# install libraries\n",
        "!pip install --force-reinstall jsonschema==3.2.0 #You must restart the runtime in order to use newly installed versions.\n",
        "!pip install web3\n",
        "!pip install demjson\n",
        "!pip3 install simplejson\n"
      ],
      "execution_count": 1,
      "outputs": [
        {
          "output_type": "stream",
          "text": [
            "Collecting jsonschema==3.2.0\n",
            "  Downloading jsonschema-3.2.0-py2.py3-none-any.whl (56 kB)\n",
            "\u001b[?25l\r\u001b[K     |█████▉                          | 10 kB 23.0 MB/s eta 0:00:01\r\u001b[K     |███████████▋                    | 20 kB 10.4 MB/s eta 0:00:01\r\u001b[K     |█████████████████▌              | 30 kB 8.7 MB/s eta 0:00:01\r\u001b[K     |███████████████████████▎        | 40 kB 7.8 MB/s eta 0:00:01\r\u001b[K     |█████████████████████████████   | 51 kB 4.2 MB/s eta 0:00:01\r\u001b[K     |████████████████████████████████| 56 kB 1.8 MB/s \n",
            "\u001b[?25hCollecting six>=1.11.0\n",
            "  Downloading six-1.16.0-py2.py3-none-any.whl (11 kB)\n",
            "Collecting importlib-metadata\n",
            "  Downloading importlib_metadata-4.6.4-py3-none-any.whl (17 kB)\n",
            "Collecting pyrsistent>=0.14.0\n",
            "  Downloading pyrsistent-0.18.0-cp37-cp37m-manylinux1_x86_64.whl (119 kB)\n",
            "\u001b[K     |████████████████████████████████| 119 kB 8.8 MB/s \n",
            "\u001b[?25hCollecting attrs>=17.4.0\n",
            "  Downloading attrs-21.2.0-py2.py3-none-any.whl (53 kB)\n",
            "\u001b[K     |████████████████████████████████| 53 kB 2.3 MB/s \n",
            "\u001b[?25hCollecting setuptools\n",
            "  Downloading setuptools-57.4.0-py3-none-any.whl (819 kB)\n",
            "\u001b[K     |████████████████████████████████| 819 kB 40.8 MB/s \n",
            "\u001b[?25hCollecting zipp>=0.5\n",
            "  Downloading zipp-3.5.0-py3-none-any.whl (5.7 kB)\n",
            "Collecting typing-extensions>=3.6.4\n",
            "  Downloading typing_extensions-3.10.0.0-py3-none-any.whl (26 kB)\n",
            "Installing collected packages: zipp, typing-extensions, six, setuptools, pyrsistent, importlib-metadata, attrs, jsonschema\n",
            "  Attempting uninstall: zipp\n",
            "    Found existing installation: zipp 3.5.0\n",
            "    Uninstalling zipp-3.5.0:\n",
            "      Successfully uninstalled zipp-3.5.0\n",
            "  Attempting uninstall: typing-extensions\n",
            "    Found existing installation: typing-extensions 3.7.4.3\n",
            "    Uninstalling typing-extensions-3.7.4.3:\n",
            "      Successfully uninstalled typing-extensions-3.7.4.3\n",
            "  Attempting uninstall: six\n",
            "    Found existing installation: six 1.15.0\n",
            "    Uninstalling six-1.15.0:\n",
            "      Successfully uninstalled six-1.15.0\n",
            "  Attempting uninstall: setuptools\n",
            "    Found existing installation: setuptools 57.4.0\n",
            "    Uninstalling setuptools-57.4.0:\n",
            "      Successfully uninstalled setuptools-57.4.0\n",
            "  Attempting uninstall: pyrsistent\n",
            "    Found existing installation: pyrsistent 0.18.0\n",
            "    Uninstalling pyrsistent-0.18.0:\n",
            "      Successfully uninstalled pyrsistent-0.18.0\n",
            "  Attempting uninstall: importlib-metadata\n",
            "    Found existing installation: importlib-metadata 4.6.3\n",
            "    Uninstalling importlib-metadata-4.6.3:\n",
            "      Successfully uninstalled importlib-metadata-4.6.3\n",
            "  Attempting uninstall: attrs\n",
            "    Found existing installation: attrs 21.2.0\n",
            "    Uninstalling attrs-21.2.0:\n",
            "      Successfully uninstalled attrs-21.2.0\n",
            "  Attempting uninstall: jsonschema\n",
            "    Found existing installation: jsonschema 2.6.0\n",
            "    Uninstalling jsonschema-2.6.0:\n",
            "      Successfully uninstalled jsonschema-2.6.0\n",
            "\u001b[31mERROR: pip's dependency resolver does not currently take into account all the packages that are installed. This behaviour is the source of the following dependency conflicts.\n",
            "tensorflow 2.5.0 requires six~=1.15.0, but you have six 1.16.0 which is incompatible.\n",
            "tensorflow 2.5.0 requires typing-extensions~=3.7.4, but you have typing-extensions 3.10.0.0 which is incompatible.\n",
            "nbclient 0.5.3 requires jupyter-client>=6.1.5, but you have jupyter-client 5.3.5 which is incompatible.\n",
            "google-colab 1.0.0 requires six~=1.15.0, but you have six 1.16.0 which is incompatible.\n",
            "datascience 0.10.6 requires folium==0.2.1, but you have folium 0.8.3 which is incompatible.\n",
            "albumentations 0.1.12 requires imgaug<0.2.7,>=0.2.5, but you have imgaug 0.2.9 which is incompatible.\u001b[0m\n",
            "Successfully installed attrs-21.2.0 importlib-metadata-4.6.4 jsonschema-3.2.0 pyrsistent-0.18.0 setuptools-57.4.0 six-1.16.0 typing-extensions-3.10.0.0 zipp-3.5.0\n"
          ],
          "name": "stdout"
        },
        {
          "output_type": "display_data",
          "data": {
            "application/vnd.colab-display-data+json": {
              "pip_warning": {
                "packages": [
                  "pkg_resources",
                  "six"
                ]
              }
            }
          },
          "metadata": {
            "tags": []
          }
        },
        {
          "output_type": "stream",
          "text": [
            "Collecting web3\n",
            "  Downloading web3-5.23.0-py3-none-any.whl (485 kB)\n",
            "\u001b[K     |████████████████████████████████| 485 kB 3.9 MB/s \n",
            "\u001b[?25hCollecting hexbytes<1.0.0,>=0.1.0\n",
            "  Downloading hexbytes-0.2.1-py3-none-any.whl (6.0 kB)\n",
            "Collecting eth-hash[pycryptodome]<1.0.0,>=0.2.0\n",
            "  Downloading eth_hash-0.3.1-py3-none-any.whl (8.9 kB)\n",
            "Requirement already satisfied: jsonschema<4.0.0,>=3.2.0 in /usr/local/lib/python3.7/dist-packages (from web3) (3.2.0)\n",
            "Requirement already satisfied: protobuf<4,>=3.10.0 in /usr/local/lib/python3.7/dist-packages (from web3) (3.17.3)\n",
            "Requirement already satisfied: requests<3.0.0,>=2.16.0 in /usr/local/lib/python3.7/dist-packages (from web3) (2.23.0)\n",
            "Collecting eth-abi<3.0.0,>=2.0.0b6\n",
            "  Downloading eth_abi-2.1.1-py3-none-any.whl (27 kB)\n",
            "Collecting eth-account<0.6.0,>=0.5.5\n",
            "  Downloading eth_account-0.5.5-py3-none-any.whl (100 kB)\n",
            "\u001b[K     |████████████████████████████████| 100 kB 10.1 MB/s \n",
            "\u001b[?25hRequirement already satisfied: typing-extensions<4,>=3.7.4.1 in /usr/local/lib/python3.7/dist-packages (from web3) (3.10.0.0)\n",
            "Collecting lru-dict<2.0.0,>=1.1.6\n",
            "  Downloading lru-dict-1.1.7.tar.gz (10 kB)\n",
            "Collecting eth-utils<2.0.0,>=1.9.5\n",
            "  Downloading eth_utils-1.10.0-py3-none-any.whl (24 kB)\n",
            "Collecting websockets<10,>=9.1\n",
            "  Downloading websockets-9.1-cp37-cp37m-manylinux2010_x86_64.whl (103 kB)\n",
            "\u001b[K     |████████████████████████████████| 103 kB 58.2 MB/s \n",
            "\u001b[?25hCollecting aiohttp<4,>=3.7.4.post0\n",
            "  Downloading aiohttp-3.7.4.post0-cp37-cp37m-manylinux2014_x86_64.whl (1.3 MB)\n",
            "\u001b[K     |████████████████████████████████| 1.3 MB 49.2 MB/s \n",
            "\u001b[?25hCollecting ipfshttpclient==0.7.0\n",
            "  Downloading ipfshttpclient-0.7.0-py3-none-any.whl (82 kB)\n",
            "\u001b[K     |████████████████████████████████| 82 kB 998 kB/s \n",
            "\u001b[?25hCollecting eth-typing<3.0.0,>=2.0.0\n",
            "  Downloading eth_typing-2.2.2-py3-none-any.whl (6.2 kB)\n",
            "Collecting multiaddr>=0.0.7\n",
            "  Downloading multiaddr-0.0.9-py2.py3-none-any.whl (16 kB)\n",
            "Collecting yarl<2.0,>=1.0\n",
            "  Downloading yarl-1.6.3-cp37-cp37m-manylinux2014_x86_64.whl (294 kB)\n",
            "\u001b[K     |████████████████████████████████| 294 kB 73.7 MB/s \n",
            "\u001b[?25hRequirement already satisfied: chardet<5.0,>=2.0 in /usr/local/lib/python3.7/dist-packages (from aiohttp<4,>=3.7.4.post0->web3) (3.0.4)\n",
            "Collecting async-timeout<4.0,>=3.0\n",
            "  Downloading async_timeout-3.0.1-py3-none-any.whl (8.2 kB)\n",
            "Requirement already satisfied: attrs>=17.3.0 in /usr/local/lib/python3.7/dist-packages (from aiohttp<4,>=3.7.4.post0->web3) (21.2.0)\n",
            "Collecting multidict<7.0,>=4.5\n",
            "  Downloading multidict-5.1.0-cp37-cp37m-manylinux2014_x86_64.whl (142 kB)\n",
            "\u001b[K     |████████████████████████████████| 142 kB 74.2 MB/s \n",
            "\u001b[?25hCollecting parsimonious<0.9.0,>=0.8.0\n",
            "  Downloading parsimonious-0.8.1.tar.gz (45 kB)\n",
            "\u001b[K     |████████████████████████████████| 45 kB 2.9 MB/s \n",
            "\u001b[?25hCollecting rlp<3,>=1.0.0\n",
            "  Downloading rlp-2.0.1-py2.py3-none-any.whl (20 kB)\n",
            "Collecting eth-keys!=0.3.2,<0.4.0,>=0.2.1\n",
            "  Downloading eth_keys-0.3.3-py3-none-any.whl (20 kB)\n",
            "Collecting bitarray<1.3.0,>=1.2.1\n",
            "  Downloading bitarray-1.2.2.tar.gz (48 kB)\n",
            "\u001b[K     |████████████████████████████████| 48 kB 5.0 MB/s \n",
            "\u001b[?25hCollecting eth-keyfile<0.6.0,>=0.5.0\n",
            "  Downloading eth_keyfile-0.5.1-py3-none-any.whl (8.3 kB)\n",
            "Collecting eth-rlp<2,>=0.1.2\n",
            "  Downloading eth_rlp-0.2.1-py3-none-any.whl (5.0 kB)\n",
            "Collecting pycryptodome<4,>=3.6.6\n",
            "  Downloading pycryptodome-3.10.1-cp35-abi3-manylinux2010_x86_64.whl (1.9 MB)\n",
            "\u001b[K     |████████████████████████████████| 1.9 MB 42.0 MB/s \n",
            "\u001b[?25hCollecting cytoolz<1.0.0,>=0.9.0\n",
            "  Downloading cytoolz-0.11.0-cp37-cp37m-manylinux_2_17_x86_64.manylinux2014_x86_64.whl (1.6 MB)\n",
            "\u001b[K     |████████████████████████████████| 1.6 MB 14.9 MB/s \n",
            "\u001b[?25hRequirement already satisfied: toolz>=0.8.0 in /usr/local/lib/python3.7/dist-packages (from cytoolz<1.0.0,>=0.9.0->eth-keyfile<0.6.0,>=0.5.0->eth-account<0.6.0,>=0.5.5->web3) (0.11.1)\n",
            "Requirement already satisfied: importlib-metadata in /usr/local/lib/python3.7/dist-packages (from jsonschema<4.0.0,>=3.2.0->web3) (4.6.4)\n",
            "Requirement already satisfied: pyrsistent>=0.14.0 in /usr/local/lib/python3.7/dist-packages (from jsonschema<4.0.0,>=3.2.0->web3) (0.18.0)\n",
            "Requirement already satisfied: six>=1.11.0 in /usr/local/lib/python3.7/dist-packages (from jsonschema<4.0.0,>=3.2.0->web3) (1.16.0)\n",
            "Requirement already satisfied: setuptools in /usr/local/lib/python3.7/dist-packages (from jsonschema<4.0.0,>=3.2.0->web3) (57.4.0)\n",
            "Collecting base58\n",
            "  Downloading base58-2.1.0-py3-none-any.whl (5.6 kB)\n",
            "Collecting varint\n",
            "  Downloading varint-1.0.2.tar.gz (1.9 kB)\n",
            "Collecting netaddr\n",
            "  Downloading netaddr-0.8.0-py2.py3-none-any.whl (1.9 MB)\n",
            "\u001b[K     |████████████████████████████████| 1.9 MB 55.0 MB/s \n",
            "\u001b[?25hRequirement already satisfied: certifi>=2017.4.17 in /usr/local/lib/python3.7/dist-packages (from requests<3.0.0,>=2.16.0->web3) (2021.5.30)\n",
            "Requirement already satisfied: idna<3,>=2.5 in /usr/local/lib/python3.7/dist-packages (from requests<3.0.0,>=2.16.0->web3) (2.10)\n",
            "Requirement already satisfied: urllib3!=1.25.0,!=1.25.1,<1.26,>=1.21.1 in /usr/local/lib/python3.7/dist-packages (from requests<3.0.0,>=2.16.0->web3) (1.24.3)\n",
            "Requirement already satisfied: zipp>=0.5 in /usr/local/lib/python3.7/dist-packages (from importlib-metadata->jsonschema<4.0.0,>=3.2.0->web3) (3.5.0)\n",
            "Building wheels for collected packages: bitarray, lru-dict, parsimonious, varint\n",
            "  Building wheel for bitarray (setup.py) ... \u001b[?25l\u001b[?25hdone\n",
            "  Created wheel for bitarray: filename=bitarray-1.2.2-cp37-cp37m-linux_x86_64.whl size=107028 sha256=3c88b4e7f086e7bbb002ee6a467bd3ab79cacc0c0686ebd8158970a449cc1b6c\n",
            "  Stored in directory: /root/.cache/pip/wheels/91/c8/a0/4fb7317b7072d4b6a4366454e5bf229ff5bb9ba1f7de8ef90d\n",
            "  Building wheel for lru-dict (setup.py) ... \u001b[?25l\u001b[?25hdone\n",
            "  Created wheel for lru-dict: filename=lru_dict-1.1.7-cp37-cp37m-linux_x86_64.whl size=28417 sha256=438a657f0816ee8706ab9b4505e1512e53f9addb6cd648b2d492cf866b69b995\n",
            "  Stored in directory: /root/.cache/pip/wheels/9d/0b/4e/aa8fec9833090cd52bcd76f92f9d95e1ee7b915c12093663b4\n",
            "  Building wheel for parsimonious (setup.py) ... \u001b[?25l\u001b[?25hdone\n",
            "  Created wheel for parsimonious: filename=parsimonious-0.8.1-py3-none-any.whl size=42724 sha256=f06239bcb02d13c8edc7ac433607bb7ff1c8f0b5113a8cf1d1848358b638e6fb\n",
            "  Stored in directory: /root/.cache/pip/wheels/88/5d/ba/f27d8af07306b65ee44f9d3f9cadea1db749a421a6db8a99bf\n",
            "  Building wheel for varint (setup.py) ... \u001b[?25l\u001b[?25hdone\n",
            "  Created wheel for varint: filename=varint-1.0.2-py3-none-any.whl size=1979 sha256=6a96eee42bea2035ecfa6f92f333ac60fa33dab022eb316500fd56b57a5ecaf1\n",
            "  Stored in directory: /root/.cache/pip/wheels/69/21/07/09f1c6a7d9b59377aa6d98da6efdd670f7ca40aabd93d02704\n",
            "Successfully built bitarray lru-dict parsimonious varint\n",
            "Installing collected packages: eth-typing, eth-hash, cytoolz, eth-utils, varint, rlp, pycryptodome, parsimonious, netaddr, multidict, hexbytes, eth-keys, base58, yarl, multiaddr, eth-rlp, eth-keyfile, eth-abi, bitarray, async-timeout, websockets, lru-dict, ipfshttpclient, eth-account, aiohttp, web3\n",
            "Successfully installed aiohttp-3.7.4.post0 async-timeout-3.0.1 base58-2.1.0 bitarray-1.2.2 cytoolz-0.11.0 eth-abi-2.1.1 eth-account-0.5.5 eth-hash-0.3.1 eth-keyfile-0.5.1 eth-keys-0.3.3 eth-rlp-0.2.1 eth-typing-2.2.2 eth-utils-1.10.0 hexbytes-0.2.1 ipfshttpclient-0.7.0 lru-dict-1.1.7 multiaddr-0.0.9 multidict-5.1.0 netaddr-0.8.0 parsimonious-0.8.1 pycryptodome-3.10.1 rlp-2.0.1 varint-1.0.2 web3-5.23.0 websockets-9.1 yarl-1.6.3\n",
            "Collecting demjson\n",
            "  Downloading demjson-2.2.4.tar.gz (131 kB)\n",
            "\u001b[K     |████████████████████████████████| 131 kB 4.2 MB/s \n",
            "\u001b[?25hBuilding wheels for collected packages: demjson\n",
            "  Building wheel for demjson (setup.py) ... \u001b[?25l\u001b[?25hdone\n",
            "  Created wheel for demjson: filename=demjson-2.2.4-py3-none-any.whl size=73564 sha256=e5a12ed2db2fba6a074bd4202ccfad87bf3b2ef4c7e1e25e56f3eef4a9328a5e\n",
            "  Stored in directory: /root/.cache/pip/wheels/41/94/3d/466801f4a8db8e6fce765d7a0115dfebcc55ddf6b00cd98f59\n",
            "Successfully built demjson\n",
            "Installing collected packages: demjson\n",
            "Successfully installed demjson-2.2.4\n",
            "Collecting simplejson\n",
            "  Downloading simplejson-3.17.3-cp37-cp37m-manylinux_2_5_x86_64.manylinux1_x86_64.manylinux_2_12_x86_64.manylinux2010_x86_64.whl (129 kB)\n",
            "\u001b[K     |████████████████████████████████| 129 kB 4.3 MB/s \n",
            "\u001b[?25hInstalling collected packages: simplejson\n",
            "Successfully installed simplejson-3.17.3\n"
          ],
          "name": "stdout"
        }
      ]
    },
    {
      "cell_type": "code",
      "metadata": {
        "id": "uv9GfOh94WJT"
      },
      "source": [
        "# import libraries\n",
        "import simplejson as json\n",
        "import json\n",
        "import demjson\n",
        "\n",
        "import pandas as pd\n",
        "import pandas_gbq as gbq\n",
        "import numpy as np\n",
        "import csv\n",
        "import re\n",
        "import requests\n",
        "import math\n",
        "\n",
        "import google.cloud\n",
        "from google.colab import drive\n",
        "from google.oauth2 import service_account\n",
        "from google.colab import auth\n",
        "from google.cloud import bigquery\n",
        "\n",
        "from web3 import Web3"
      ],
      "execution_count": 1,
      "outputs": []
    },
    {
      "cell_type": "code",
      "metadata": {
        "id": "jmCWWe275nSn",
        "colab": {
          "base_uri": "https://localhost:8080/"
        },
        "outputId": "20ed597c-e852-4596-bb91-c71ea5159b2d"
      },
      "source": [
        "# authenticate in order to use BigQuery and Cloud Storage in a jupyter notebook running on a local machine\n",
        "auth.authenticate_user()\n",
        "print('Authenticated')"
      ],
      "execution_count": 2,
      "outputs": [
        {
          "output_type": "stream",
          "text": [
            "Authenticated\n"
          ],
          "name": "stdout"
        }
      ]
    },
    {
      "cell_type": "code",
      "metadata": {
        "id": "dsg_m7eg69Gh",
        "colab": {
          "base_uri": "https://localhost:8080/"
        },
        "outputId": "f7375e4a-15a2-47db-a2d0-7a74ecbd9188"
      },
      "source": [
        "# check the table id under 'crypto-project-30940/amm'\n",
        "project_id = 'crypto-project-30940'\n",
        "client = bigquery.Client(project=\"crypto-project-30940\")\n",
        "dataset_ref = client.dataset(\"result\", project=\"crypto-project-30940\")\n",
        "dataset = client.get_dataset(dataset_ref)\n",
        "tables = list(client.list_tables(dataset))\n",
        "\n",
        "for table in tables:\n",
        "  print(table.table_id)"
      ],
      "execution_count": 4,
      "outputs": [
        {
          "output_type": "stream",
          "text": [
            "final\n",
            "results_1_100000\n",
            "sushi_V2Router02\n",
            "sushi_decode_error\n",
            "sushi_decode_result\n",
            "sushi_liquidity_result\n",
            "sushi_swap_result\n"
          ],
          "name": "stdout"
        }
      ]
    },
    {
      "cell_type": "markdown",
      "metadata": {
        "id": "qospuBHQ7oXG"
      },
      "source": [
        "#  Decode V2Router02 contract"
      ]
    },
    {
      "cell_type": "code",
      "metadata": {
        "id": "AC3ZZviX-aoP"
      },
      "source": [
        "# find smart contract abi by using etherscan \n",
        "infura_url = \"https://mainnet.infura.io/v3/2fa59413591b4e39af06a81fd925c5b6\"\n",
        "web3 = Web3(Web3.HTTPProvider(infura_url))\n",
        "\n",
        "# uniswap\n",
        "V2Router02_contract = '0x7a250d5630b4cf539739df2c5dacb4c659f2488d'.lower()\n",
        "# sushiswap\n",
        "# V2Router02_contract = '0xd9e1ce17f2641f24ae83637ab66a2cca9c378b9f'.lower()\n",
        "api_key = 'TRDHFVRNF798GQ9S8KJ1JCBT4S8E5SK23Y' # Xiaofeng's private API key of etherscan\n",
        "\n",
        "V2Router02_address = Web3.toChecksumAddress(V2Router02_contract)\n",
        "\n",
        "abi_endpoint = f\"https://api.etherscan.io/api?module=contract&action=getabi&address=\"+ V2Router02_contract + \"&apikey=\" + api_key\n",
        "abi = json.loads(requests.get(abi_endpoint).text)\n",
        "# uniswap_abi or sushiswap_abi\n",
        "contract = web3.eth.contract(address = V2Router02_address, abi = abi[\"result\"])\n",
        "\n"
      ],
      "execution_count": 5,
      "outputs": []
    },
    {
      "cell_type": "code",
      "metadata": {
        "id": "tl-QigFL_Xdc"
      },
      "source": [
        "# display dataframes as interactive tables\n",
        "%load_ext google.colab.data_table"
      ],
      "execution_count": 6,
      "outputs": []
    },
    {
      "cell_type": "code",
      "metadata": {
        "id": "bFC9bP_D7k7P"
      },
      "source": [
        "# since the data is very large, let us just select 'hash' and 'input' from big query\n",
        "%%bigquery --project crypto-project-30940 V2Router02_input\n",
        "  SELECT `hash`, from_address, block_timestamp, receipt_status, input,\n",
        "   FROM `crypto-project-30940.amm.uniswap_V2Router02_transactions_by20201130`\n",
        "   limit 1000000 offset 0"
      ],
      "execution_count": 7,
      "outputs": []
    },
    {
      "cell_type": "code",
      "metadata": {
        "id": "E9ICsOul4i8L"
      },
      "source": [
        "def find_input(input_value):\n",
        "  try: \n",
        "    output_value = contract.decode_function_input(input_value)\n",
        "  except:\n",
        "    output_value = np.nan\n",
        "\n",
        "  return output_value\n",
        "\n",
        "def find_function(decode_str):\n",
        "  if decode_str is np.nan:\n",
        "    output_func = np.nan\n",
        "  else:\n",
        "    output_func = re.findall('\\ (.*)\\(', str(decode_str[0]))[0]\n",
        "  \n",
        "  return output_func\n",
        "\n",
        "def find_params(decode_str):\n",
        "  if decode_str is np.nan:\n",
        "    output_params = np.nan\n",
        "  else:\n",
        "    output_params = dict(decode_str[1])\n",
        "  \n",
        "  return output_params"
      ],
      "execution_count": 9,
      "outputs": []
    },
    {
      "cell_type": "code",
      "metadata": {
        "id": "FRZjCwNWrWQc"
      },
      "source": [
        "# decode the 'input'\n",
        "V2Router02_input['decode'] = V2Router02_input['input'].apply(lambda x: find_input(x))\n",
        "V2Router02_input['function'] = V2Router02_input['decode'].apply(lambda x: find_function(x))\n",
        "V2Router02_input['params'] = V2Router02_input['decode'].apply(lambda x: find_params(x))"
      ],
      "execution_count": 10,
      "outputs": []
    },
    {
      "cell_type": "markdown",
      "metadata": {
        "id": "pCMIqZJ38J9O"
      },
      "source": [
        "### Decode swap transactions"
      ]
    },
    {
      "cell_type": "code",
      "metadata": {
        "id": "IP9PT9Un-Fuw"
      },
      "source": [
        "## Maybe we need to double check the multiplecalss?? or it is only on V3"
      ],
      "execution_count": null,
      "outputs": []
    },
    {
      "cell_type": "code",
      "metadata": {
        "id": "AgYQQa7lZyfd"
      },
      "source": [
        "# function to get the value of the dictionary based on index, and return np.nan if not exist.\n",
        "def decode_input(input_params, check_index):\n",
        "  try:\n",
        "    output_value = input_params[check_index]\n",
        "    if check_index in ['amountInMax', 'amountIn', 'amountOutMin', 'amountOut', 'deadline',\n",
        "                       'amountADesired', 'amountBDesired', 'amountAMin', 'amountBMin', 'liquidity']:\n",
        "      output_value = str(output_value)\n",
        "    if check_index == 'path':\n",
        "      output_value = list(map(str.lower, output_value))\n",
        "    if check_index in ['to', 'tokenA', 'tokenB', 'token']:\n",
        "      output_value = output_value.lower()\n",
        "  except: \n",
        "    output_value = np.nan\n",
        "    \n",
        "  return output_value\n"
      ],
      "execution_count": 11,
      "outputs": []
    },
    {
      "cell_type": "code",
      "metadata": {
        "id": "5h56HUQrsYxk"
      },
      "source": [
        "# select swap data\n",
        "V2Router02_swap = V2Router02_input[V2Router02_input['function'].str.find('swap') != -1]"
      ],
      "execution_count": 12,
      "outputs": []
    },
    {
      "cell_type": "code",
      "metadata": {
        "colab": {
          "base_uri": "https://localhost:8080/"
        },
        "id": "lF__Ot20PHGf",
        "outputId": "6c7e5435-b5c8-4e33-8cba-fbd3864fb646"
      },
      "source": [
        "len(V2Router02_swap)"
      ],
      "execution_count": 13,
      "outputs": [
        {
          "output_type": "execute_result",
          "data": {
            "text/plain": [
              "927038"
            ]
          },
          "metadata": {
            "tags": []
          },
          "execution_count": 13
        }
      ]
    },
    {
      "cell_type": "code",
      "metadata": {
        "id": "ICZlCwheQnkB",
        "colab": {
          "base_uri": "https://localhost:8080/"
        },
        "outputId": "cb1de0e3-899e-4688-d359-65acb26e5964"
      },
      "source": [
        "# decode input for swap file\n",
        "V2Router02_swap['amountInMax'] = V2Router02_swap['params'].apply(lambda x: decode_input(x, 'amountInMax'))\n",
        "V2Router02_swap['amountIn'] = V2Router02_swap['params'].apply(lambda x: decode_input(x, 'amountIn'))\n",
        "V2Router02_swap['amountOutMin'] = V2Router02_swap['params'].apply(lambda x: decode_input(x, 'amountOutMin'))\n",
        "V2Router02_swap['amountOut'] = V2Router02_swap['params'].apply(lambda x: decode_input(x, 'amountOut'))\n",
        "V2Router02_swap['path'] = V2Router02_swap['params'].apply(lambda x: decode_input(x, 'path'))\n",
        "V2Router02_swap['to'] = V2Router02_swap['params'].apply(lambda x: decode_input(x, 'to'))\n",
        "V2Router02_swap['deadline'] = V2Router02_swap['params'].apply(lambda x: decode_input(x, 'deadline'))"
      ],
      "execution_count": 14,
      "outputs": [
        {
          "output_type": "stream",
          "text": [
            "/usr/local/lib/python3.7/dist-packages/ipykernel_launcher.py:2: SettingWithCopyWarning: \n",
            "A value is trying to be set on a copy of a slice from a DataFrame.\n",
            "Try using .loc[row_indexer,col_indexer] = value instead\n",
            "\n",
            "See the caveats in the documentation: https://pandas.pydata.org/pandas-docs/stable/user_guide/indexing.html#returning-a-view-versus-a-copy\n",
            "  \n",
            "/usr/local/lib/python3.7/dist-packages/ipykernel_launcher.py:3: SettingWithCopyWarning: \n",
            "A value is trying to be set on a copy of a slice from a DataFrame.\n",
            "Try using .loc[row_indexer,col_indexer] = value instead\n",
            "\n",
            "See the caveats in the documentation: https://pandas.pydata.org/pandas-docs/stable/user_guide/indexing.html#returning-a-view-versus-a-copy\n",
            "  This is separate from the ipykernel package so we can avoid doing imports until\n",
            "/usr/local/lib/python3.7/dist-packages/ipykernel_launcher.py:4: SettingWithCopyWarning: \n",
            "A value is trying to be set on a copy of a slice from a DataFrame.\n",
            "Try using .loc[row_indexer,col_indexer] = value instead\n",
            "\n",
            "See the caveats in the documentation: https://pandas.pydata.org/pandas-docs/stable/user_guide/indexing.html#returning-a-view-versus-a-copy\n",
            "  after removing the cwd from sys.path.\n",
            "/usr/local/lib/python3.7/dist-packages/ipykernel_launcher.py:5: SettingWithCopyWarning: \n",
            "A value is trying to be set on a copy of a slice from a DataFrame.\n",
            "Try using .loc[row_indexer,col_indexer] = value instead\n",
            "\n",
            "See the caveats in the documentation: https://pandas.pydata.org/pandas-docs/stable/user_guide/indexing.html#returning-a-view-versus-a-copy\n",
            "  \"\"\"\n",
            "/usr/local/lib/python3.7/dist-packages/ipykernel_launcher.py:6: SettingWithCopyWarning: \n",
            "A value is trying to be set on a copy of a slice from a DataFrame.\n",
            "Try using .loc[row_indexer,col_indexer] = value instead\n",
            "\n",
            "See the caveats in the documentation: https://pandas.pydata.org/pandas-docs/stable/user_guide/indexing.html#returning-a-view-versus-a-copy\n",
            "  \n",
            "/usr/local/lib/python3.7/dist-packages/ipykernel_launcher.py:7: SettingWithCopyWarning: \n",
            "A value is trying to be set on a copy of a slice from a DataFrame.\n",
            "Try using .loc[row_indexer,col_indexer] = value instead\n",
            "\n",
            "See the caveats in the documentation: https://pandas.pydata.org/pandas-docs/stable/user_guide/indexing.html#returning-a-view-versus-a-copy\n",
            "  import sys\n",
            "/usr/local/lib/python3.7/dist-packages/ipykernel_launcher.py:8: SettingWithCopyWarning: \n",
            "A value is trying to be set on a copy of a slice from a DataFrame.\n",
            "Try using .loc[row_indexer,col_indexer] = value instead\n",
            "\n",
            "See the caveats in the documentation: https://pandas.pydata.org/pandas-docs/stable/user_guide/indexing.html#returning-a-view-versus-a-copy\n",
            "  \n"
          ],
          "name": "stderr"
        }
      ]
    },
    {
      "cell_type": "code",
      "metadata": {
        "id": "FKtdr4V3k6QI"
      },
      "source": [
        "# function to decode path\n",
        "def find_num_tokens(input_path):\n",
        "  if input_path is np.nan:\n",
        "    output_num_tokens = np.nan\n",
        "  else:\n",
        "    output_num_tokens = len(input_path)\n",
        "\n",
        "  return output_num_tokens\n",
        "\n",
        "\n",
        "def decode_path(input_path, path_num):\n",
        "  if input_path is np.nan:\n",
        "    output_path = np.nan\n",
        "  elif path_num > len(input_path):\n",
        "    output_path = np.nan\n",
        "  else:\n",
        "    output_path = input_path[path_num-1]\n",
        "\n",
        "  return output_path"
      ],
      "execution_count": 15,
      "outputs": []
    },
    {
      "cell_type": "code",
      "metadata": {
        "id": "xKpOqalve_tD",
        "colab": {
          "base_uri": "https://localhost:8080/"
        },
        "outputId": "8fbb83c2-0fe2-48c9-a39c-e58f22b24cf4"
      },
      "source": [
        "# decode path for swap file\n",
        "V2Router02_swap['num_tokens'] = V2Router02_swap['path'].apply(lambda x: find_num_tokens(x))\n",
        "V2Router02_swap['path1'] = V2Router02_swap['path'].apply(lambda x: decode_path(x, 1))\n",
        "V2Router02_swap['path2'] = V2Router02_swap['path'].apply(lambda x: decode_path(x, 2))\n",
        "V2Router02_swap['path3'] = V2Router02_swap['path'].apply(lambda x: decode_path(x, 3))\n",
        "V2Router02_swap['path4'] = V2Router02_swap['path'].apply(lambda x: decode_path(x, 4))"
      ],
      "execution_count": 16,
      "outputs": [
        {
          "output_type": "stream",
          "text": [
            "/usr/local/lib/python3.7/dist-packages/ipykernel_launcher.py:2: SettingWithCopyWarning: \n",
            "A value is trying to be set on a copy of a slice from a DataFrame.\n",
            "Try using .loc[row_indexer,col_indexer] = value instead\n",
            "\n",
            "See the caveats in the documentation: https://pandas.pydata.org/pandas-docs/stable/user_guide/indexing.html#returning-a-view-versus-a-copy\n",
            "  \n",
            "/usr/local/lib/python3.7/dist-packages/ipykernel_launcher.py:3: SettingWithCopyWarning: \n",
            "A value is trying to be set on a copy of a slice from a DataFrame.\n",
            "Try using .loc[row_indexer,col_indexer] = value instead\n",
            "\n",
            "See the caveats in the documentation: https://pandas.pydata.org/pandas-docs/stable/user_guide/indexing.html#returning-a-view-versus-a-copy\n",
            "  This is separate from the ipykernel package so we can avoid doing imports until\n",
            "/usr/local/lib/python3.7/dist-packages/ipykernel_launcher.py:4: SettingWithCopyWarning: \n",
            "A value is trying to be set on a copy of a slice from a DataFrame.\n",
            "Try using .loc[row_indexer,col_indexer] = value instead\n",
            "\n",
            "See the caveats in the documentation: https://pandas.pydata.org/pandas-docs/stable/user_guide/indexing.html#returning-a-view-versus-a-copy\n",
            "  after removing the cwd from sys.path.\n",
            "/usr/local/lib/python3.7/dist-packages/ipykernel_launcher.py:5: SettingWithCopyWarning: \n",
            "A value is trying to be set on a copy of a slice from a DataFrame.\n",
            "Try using .loc[row_indexer,col_indexer] = value instead\n",
            "\n",
            "See the caveats in the documentation: https://pandas.pydata.org/pandas-docs/stable/user_guide/indexing.html#returning-a-view-versus-a-copy\n",
            "  \"\"\"\n",
            "/usr/local/lib/python3.7/dist-packages/ipykernel_launcher.py:6: SettingWithCopyWarning: \n",
            "A value is trying to be set on a copy of a slice from a DataFrame.\n",
            "Try using .loc[row_indexer,col_indexer] = value instead\n",
            "\n",
            "See the caveats in the documentation: https://pandas.pydata.org/pandas-docs/stable/user_guide/indexing.html#returning-a-view-versus-a-copy\n",
            "  \n"
          ],
          "name": "stderr"
        }
      ]
    },
    {
      "cell_type": "code",
      "metadata": {
        "id": "47rJ94YvkwJJ"
      },
      "source": [
        "%%bigquery --project crypto-project-30940 tokens_info\n",
        "  SELECT address, symbol, \n",
        "  FROM `crypto-project-30940.amm.tokens`"
      ],
      "execution_count": 17,
      "outputs": []
    },
    {
      "cell_type": "code",
      "metadata": {
        "id": "M-O9_VSZqTS8"
      },
      "source": [
        "# making address and token into a dictionary. I believe it would be easier to check\n",
        "tokens_dict = dict(zip(tokens_info.address, tokens_info.symbol))\n"
      ],
      "execution_count": 18,
      "outputs": []
    },
    {
      "cell_type": "code",
      "metadata": {
        "id": "68CrgkCsrunf"
      },
      "source": [
        "# function to check the symbol\n",
        "def check_token_symbol(token_address, token_dict):\n",
        "  if token_address is np.nan:\n",
        "    output_token_symbol = np.nan\n",
        "  else:\n",
        "    try:\n",
        "      output_token_symbol = token_dict[token_address]\n",
        "    except:\n",
        "      output_token_symbol = np.nan\n",
        "\n",
        "  return output_token_symbol\n"
      ],
      "execution_count": 19,
      "outputs": []
    },
    {
      "cell_type": "code",
      "metadata": {
        "id": "wEOoSQhLr4DE",
        "colab": {
          "base_uri": "https://localhost:8080/"
        },
        "outputId": "d19a6c4b-9b72-46d4-f06d-9eec936618c1"
      },
      "source": [
        "# find the token symbol for the corresponding token address\n",
        "V2Router02_swap['token1'] = V2Router02_swap['path1'].apply(lambda x: check_token_symbol(x, tokens_dict))\n",
        "V2Router02_swap['token2'] = V2Router02_swap['path2'].apply(lambda x: check_token_symbol(x, tokens_dict))\n",
        "V2Router02_swap['token3'] = V2Router02_swap['path3'].apply(lambda x: check_token_symbol(x, tokens_dict))\n",
        "V2Router02_swap['token4'] = V2Router02_swap['path4'].apply(lambda x: check_token_symbol(x, tokens_dict))"
      ],
      "execution_count": 20,
      "outputs": [
        {
          "output_type": "stream",
          "text": [
            "/usr/local/lib/python3.7/dist-packages/ipykernel_launcher.py:2: SettingWithCopyWarning: \n",
            "A value is trying to be set on a copy of a slice from a DataFrame.\n",
            "Try using .loc[row_indexer,col_indexer] = value instead\n",
            "\n",
            "See the caveats in the documentation: https://pandas.pydata.org/pandas-docs/stable/user_guide/indexing.html#returning-a-view-versus-a-copy\n",
            "  \n",
            "/usr/local/lib/python3.7/dist-packages/ipykernel_launcher.py:3: SettingWithCopyWarning: \n",
            "A value is trying to be set on a copy of a slice from a DataFrame.\n",
            "Try using .loc[row_indexer,col_indexer] = value instead\n",
            "\n",
            "See the caveats in the documentation: https://pandas.pydata.org/pandas-docs/stable/user_guide/indexing.html#returning-a-view-versus-a-copy\n",
            "  This is separate from the ipykernel package so we can avoid doing imports until\n",
            "/usr/local/lib/python3.7/dist-packages/ipykernel_launcher.py:4: SettingWithCopyWarning: \n",
            "A value is trying to be set on a copy of a slice from a DataFrame.\n",
            "Try using .loc[row_indexer,col_indexer] = value instead\n",
            "\n",
            "See the caveats in the documentation: https://pandas.pydata.org/pandas-docs/stable/user_guide/indexing.html#returning-a-view-versus-a-copy\n",
            "  after removing the cwd from sys.path.\n",
            "/usr/local/lib/python3.7/dist-packages/ipykernel_launcher.py:5: SettingWithCopyWarning: \n",
            "A value is trying to be set on a copy of a slice from a DataFrame.\n",
            "Try using .loc[row_indexer,col_indexer] = value instead\n",
            "\n",
            "See the caveats in the documentation: https://pandas.pydata.org/pandas-docs/stable/user_guide/indexing.html#returning-a-view-versus-a-copy\n",
            "  \"\"\"\n"
          ],
          "name": "stderr"
        }
      ]
    },
    {
      "cell_type": "code",
      "metadata": {
        "id": "Gnf3B2MAXAXv"
      },
      "source": [
        "# remove some intermediate columns\n",
        "V2Router02_swap = V2Router02_swap.drop(columns=['decode', 'input', 'params'])\n",
        "V2Router02_swap = V2Router02_swap[V2Router02_swap['function'].notnull()]"
      ],
      "execution_count": 21,
      "outputs": []
    },
    {
      "cell_type": "code",
      "metadata": {
        "colab": {
          "base_uri": "https://localhost:8080/"
        },
        "id": "LSsdjJxVybFF",
        "outputId": "e6f4cf1f-e0a5-4e2b-aaff-e5fbe2273184"
      },
      "source": [
        "len(V2Router02_swap)"
      ],
      "execution_count": 22,
      "outputs": [
        {
          "output_type": "execute_result",
          "data": {
            "text/plain": [
              "926751"
            ]
          },
          "metadata": {
            "tags": []
          },
          "execution_count": 22
        }
      ]
    },
    {
      "cell_type": "code",
      "metadata": {
        "colab": {
          "base_uri": "https://localhost:8080/"
        },
        "id": "MQ3U98ERvn3q",
        "outputId": "7b6572d7-b24a-4de7-efb1-8b919df0eb4f"
      },
      "source": [
        "V2Router02_swap.to_gbq('result.uniswap_swap_result_YX', project_id='crypto-project-30940',if_exists='append')\n"
      ],
      "execution_count": 23,
      "outputs": [
        {
          "output_type": "stream",
          "text": [
            "1it [02:49, 169.45s/it]\n"
          ],
          "name": "stderr"
        }
      ]
    },
    {
      "cell_type": "markdown",
      "metadata": {
        "id": "cvgcCic4cHqV"
      },
      "source": [
        "### Decode liquidity transactions"
      ]
    },
    {
      "cell_type": "code",
      "metadata": {
        "id": "XKWHrafccThD"
      },
      "source": [
        "# select liquidity data\n",
        "V2Router02_liquidity = V2Router02_input[V2Router02_input['function'].str.find('Liquidity') != -1]\n",
        "V2Router02_liquidity = V2Router02_liquidity[V2Router02_liquidity['function'].notnull()]"
      ],
      "execution_count": 24,
      "outputs": []
    },
    {
      "cell_type": "code",
      "metadata": {
        "id": "CsP4FDUjdpVM"
      },
      "source": [
        "def decode_input_liquidity(input_function, input_params, names):\n",
        "  if str(input_function).find('ETH') == -1:\n",
        "    try:\n",
        "      output_value = decode_input(input_params, names)\n",
        "\n",
        "    except: \n",
        "      output_value = np.nan\n",
        "  else:\n",
        "    try: \n",
        "      if names == 'tokenB':\n",
        "        names = 'token'\n",
        "      elif names == 'amountBDesired':\n",
        "        names = 'amountTokenDesired'\n",
        "      elif names == 'amountBMin':\n",
        "        names = 'amountTokenMin'\n",
        "      elif names == 'amountADesired':\n",
        "        names = 'amountETHDesired'\n",
        "      elif names == 'amountAMin':\n",
        "        names = 'amountETHMin'\n",
        "      output_value = decode_input(input_params, names)\n",
        "\n",
        "      if names == 'tokenA':\n",
        "        output_value = '0xc02aaa39b223fe8d0a0e5c4f27ead9083c756cc2'\n",
        "    \n",
        "    except:\n",
        "      output_value = np.nan\n",
        "\n",
        "  return output_value\n",
        "      "
      ],
      "execution_count": 25,
      "outputs": []
    },
    {
      "cell_type": "code",
      "metadata": {
        "id": "dx3U0-cMcHXP"
      },
      "source": [
        "V2Router02_liquidity['tokenA_address'] = V2Router02_liquidity.apply(lambda x: decode_input_liquidity(x.function, x.params, 'tokenA'), axis=1)\n",
        "V2Router02_liquidity['tokenB_address'] = V2Router02_liquidity.apply(lambda x: decode_input_liquidity(x.function, x.params, 'tokenB'), axis=1)\n",
        "V2Router02_liquidity['amountADesired'] = V2Router02_liquidity.apply(lambda x: decode_input_liquidity(x.function, x.params, 'amountADesired'), axis=1)\n",
        "V2Router02_liquidity['amountBDesired'] = V2Router02_liquidity.apply(lambda x: decode_input_liquidity(x.function, x.params, 'amountBDesired'), axis=1)\n",
        "V2Router02_liquidity['amountAMin'] = V2Router02_liquidity.apply(lambda x: decode_input_liquidity(x.function, x.params, 'amountAMin'), axis=1)\n",
        "V2Router02_liquidity['amountBMin'] = V2Router02_liquidity.apply(lambda x: decode_input_liquidity(x.function, x.params, 'amountBMin'), axis=1)\n",
        "V2Router02_liquidity['liquidity'] = V2Router02_liquidity.apply(lambda x: decode_input_liquidity(x.function, x.params, 'liquidity'), axis=1)\n",
        "V2Router02_liquidity['to'] = V2Router02_liquidity.apply(lambda x: decode_input_liquidity(x.function, x.params, 'to'), axis=1)\n",
        "V2Router02_liquidity['deadline'] = V2Router02_liquidity.apply(lambda x: decode_input_liquidity(x.function, x.params, 'deadline'), axis=1)"
      ],
      "execution_count": 26,
      "outputs": []
    },
    {
      "cell_type": "code",
      "metadata": {
        "id": "luF2RNu2OeLa"
      },
      "source": [
        "# find the token symbol for the corresponding token address\n",
        "V2Router02_liquidity['tokenA_sysmbol'] = V2Router02_liquidity['tokenA_address'].apply(lambda x: check_token_symbol(x, tokens_dict))\n",
        "V2Router02_liquidity['tokenB_sysmbol'] = V2Router02_liquidity['tokenB_address'].apply(lambda x: check_token_symbol(x, tokens_dict))"
      ],
      "execution_count": 27,
      "outputs": []
    },
    {
      "cell_type": "code",
      "metadata": {
        "id": "1uRyT5veJGJD"
      },
      "source": [
        "#V2Router02_liquidity[V2Router02_liquidity['tokenB_sysmbol'].notnull()]"
      ],
      "execution_count": null,
      "outputs": []
    },
    {
      "cell_type": "code",
      "metadata": {
        "id": "kIXWNXoNcG1W"
      },
      "source": [
        "V2Router02_liquidity = V2Router02_liquidity.drop(columns=['decode', 'input', 'params'])"
      ],
      "execution_count": 28,
      "outputs": []
    },
    {
      "cell_type": "code",
      "metadata": {
        "colab": {
          "base_uri": "https://localhost:8080/"
        },
        "id": "hk2a-tNIdA6a",
        "outputId": "6dbd13ba-ba86-44eb-e1f1-6aac26f42e58"
      },
      "source": [
        "len(V2Router02_liquidity)"
      ],
      "execution_count": 29,
      "outputs": [
        {
          "output_type": "execute_result",
          "data": {
            "text/plain": [
              "72961"
            ]
          },
          "metadata": {
            "tags": []
          },
          "execution_count": 29
        }
      ]
    },
    {
      "cell_type": "code",
      "metadata": {
        "colab": {
          "base_uri": "https://localhost:8080/"
        },
        "id": "jt2Qh-IrfBn3",
        "outputId": "5f7c687f-7a3e-41c9-bea7-c948b8778458"
      },
      "source": [
        "V2Router02_liquidity.to_gbq('result.uniswap_liquidity_result_YX', project_id='crypto-project-30940',if_exists='append')\n"
      ],
      "execution_count": 30,
      "outputs": [
        {
          "output_type": "stream",
          "text": [
            "1it [00:13, 13.78s/it]\n"
          ],
          "name": "stderr"
        }
      ]
    },
    {
      "cell_type": "code",
      "metadata": {
        "colab": {
          "base_uri": "https://localhost:8080/",
          "height": 311
        },
        "id": "Qf4K7v0GdExx",
        "outputId": "36e30782-4e10-4d67-92e0-e7c27daf68ef"
      },
      "source": [
        "# check\n",
        "# V2Router02_liquidity[V2Router02_liquidity['from_address'] == '0x01c51aa0ee555b8f6bb6358f9042ac6fb55c9780']\n",
        "# V2Router02_liquidity.iloc[1940]\n",
        "# V2Router02_swap.iloc[1940][0]"
      ],
      "execution_count": null,
      "outputs": [
        {
          "output_type": "execute_result",
          "data": {
            "application/vnd.google.colaboratory.module+javascript": "\n      import \"https://ssl.gstatic.com/colaboratory/data_table/a6224c040fa35dcf/data_table.js\";\n\n      window.createDataTable({\n        data: [[{\n            'v': 76836,\n            'f': \"76836\",\n        },\n\"0x134bf9db48b1aafe93d409e3ba1489e47822767b6ca47292fa7ca86481c7cbfa\",\n\"0x01c51aa0ee555b8f6bb6358f9042ac6fb55c9780\",\n\"2020-11-19 19:41:44+00:00\",\n{\n            'v': 1,\n            'f': \"1\",\n        },\n\"removeLiquidityETHWithPermit\",\n\"0xc02aaa39b223fe8d0a0e5c4f27ead9083c756cc2\",\n\"0x0bc529c00c6401aef6d220be8c6ea1667f6ad93e\",\nNaN,\nNaN,\n\"264986657521972630\",\n4411467706445154,\n\"21375930030959789\",\n\"0x01c51aa0ee555b8f6bb6358f9042ac6fb55c9780\",\n\"1605816054\",\n\"WETH\",\nNaN],\n [{\n            'v': 76960,\n            'f': \"76960\",\n        },\n\"0x7271bf135c19bff261daab19e02b4f6d486676d75a13b9d51c8caf467ddb782b\",\n\"0x01c51aa0ee555b8f6bb6358f9042ac6fb55c9780\",\n\"2020-11-19 19:09:32+00:00\",\n{\n            'v': 1,\n            'f': \"1\",\n        },\n\"addLiquidityETH\",\n\"0xc02aaa39b223fe8d0a0e5c4f27ead9083c756cc2\",\n\"0x6b3595068778dd592e39a122f4f5a5cf09c90fe2\",\nNaN,\n\"647901895077386018109\",\n\"2075038752381912207\",\n\"615506800323516717203\",\nNaN,\n\"0x01c51aa0ee555b8f6bb6358f9042ac6fb55c9780\",\n\"1605814166\",\n\"WETH\",\nNaN],\n [{\n            'v': 89495,\n            'f': \"89495\",\n        },\n\"0x8fee4460ed3c2d4d5513421c7752b97228d0ed5fe062896d227753caf411fa2e\",\n\"0x01c51aa0ee555b8f6bb6358f9042ac6fb55c9780\",\n\"2020-11-17 15:11:28+00:00\",\n{\n            'v': 1,\n            'f': \"1\",\n        },\n\"addLiquidity\",\n\"0x04fa0d235c4abf4bcf4787af4cf447de572ef828\",\n\"0xc02aaa39b223fe8d0a0e5c4f27ead9083c756cc2\",\n\"61473368893425958408\",\n\"1076317062736528769\",\n\"61166002048958828615\",\n\"1070935477422846125\",\nNaN,\n\"0x01c51aa0ee555b8f6bb6358f9042ac6fb55c9780\",\n\"1605627039\",\nNaN,\n\"WETH\"],\n [{\n            'v': 90406,\n            'f': \"90406\",\n        },\n\"0x547a5651369eb23981f7cc74b7d2c76d22f1385e9a252d9e1273f286abc4ca2d\",\n\"0x01c51aa0ee555b8f6bb6358f9042ac6fb55c9780\",\n\"2020-11-17 15:51:33+00:00\",\n{\n            'v': 1,\n            'f': \"1\",\n        },\n\"addLiquidity\",\n\"0x0bc529c00c6401aef6d220be8c6ea1667f6ad93e\",\n\"0xc02aaa39b223fe8d0a0e5c4f27ead9083c756cc2\",\n\"5253373324672723\",\n\"223682937263471231\",\n\"5227106458049359\",\n\"222564522577153874\",\nNaN,\n\"0x01c51aa0ee555b8f6bb6358f9042ac6fb55c9780\",\n\"1605629474\",\nNaN,\n\"WETH\"],\n [{\n            'v': 93795,\n            'f': \"93795\",\n        },\n\"0x44f646c1153c109c47cd223f121e870684d6822ab593f65fc737a3f072fabe74\",\n\"0x01c51aa0ee555b8f6bb6358f9042ac6fb55c9780\",\n\"2020-11-14 12:20:27+00:00\",\n{\n            'v': 1,\n            'f': \"1\",\n        },\n\"addLiquidityETH\",\n\"0xc02aaa39b223fe8d0a0e5c4f27ead9083c756cc2\",\n\"0xcaaa93712bdac37f736c323c93d4d5fdefcc31cc\",\nNaN,\n\"5120032102456436732925\",\n\"950000000000000000\",\n\"4864030497333614896278\",\nNaN,\n\"0x01c51aa0ee555b8f6bb6358f9042ac6fb55c9780\",\n\"1605357604\",\n\"WETH\",\n\"CRD\"],\n [{\n            'v': 157577,\n            'f': \"157577\",\n        },\n\"0xb20e0e7a65dc19abc451c85197e21d5d01cee45861bc5a195ec7f3aef9e352c3\",\n\"0x01c51aa0ee555b8f6bb6358f9042ac6fb55c9780\",\n\"2020-11-15 18:14:39+00:00\",\n{\n            'v': 1,\n            'f': \"1\",\n        },\n\"addLiquidityETH\",\n\"0xc02aaa39b223fe8d0a0e5c4f27ead9083c756cc2\",\n\"0x6b3595068778dd592e39a122f4f5a5cf09c90fe2\",\nNaN,\n\"154976377977677540476\",\n\"415697497798979428\",\n\"147227559078793663452\",\nNaN,\n\"0x01c51aa0ee555b8f6bb6358f9042ac6fb55c9780\",\n\"1605465264\",\n\"WETH\",\nNaN]],\n        columns: [[\"number\", \"index\"], [\"string\", \"hash\"], [\"string\", \"from_address\"], [\"string\", \"block_timestamp\"], [\"number\", \"receipt_status\"], [\"string\", \"function\"], [\"string\", \"tokenA_address\"], [\"string\", \"tokenB_address\"], [\"string\", \"amountADesired\"], [\"string\", \"amountBDesired\"], [\"string\", \"amountAMin\"], [\"string\", \"amountBMin\"], [\"string\", \"liquidity\"], [\"string\", \"to\"], [\"string\", \"deadline\"], [\"string\", \"tokenA_sysmbol\"], [\"string\", \"tokenB_sysmbol\"]],\n        columnOptions: [{\"width\": \"1px\", \"className\": \"index_column\"}],\n        rowsPerPage: 25,\n        helpUrl: \"https://colab.research.google.com/notebooks/data_table.ipynb\",\n        suppressOutputScrolling: true,\n        minimumWidth: undefined,\n      });\n    ",
            "text/html": [
              "<div>\n",
              "<style scoped>\n",
              "    .dataframe tbody tr th:only-of-type {\n",
              "        vertical-align: middle;\n",
              "    }\n",
              "\n",
              "    .dataframe tbody tr th {\n",
              "        vertical-align: top;\n",
              "    }\n",
              "\n",
              "    .dataframe thead th {\n",
              "        text-align: right;\n",
              "    }\n",
              "</style>\n",
              "<table border=\"1\" class=\"dataframe\">\n",
              "  <thead>\n",
              "    <tr style=\"text-align: right;\">\n",
              "      <th></th>\n",
              "      <th>hash</th>\n",
              "      <th>from_address</th>\n",
              "      <th>block_timestamp</th>\n",
              "      <th>receipt_status</th>\n",
              "      <th>function</th>\n",
              "      <th>tokenA_address</th>\n",
              "      <th>tokenB_address</th>\n",
              "      <th>amountADesired</th>\n",
              "      <th>amountBDesired</th>\n",
              "      <th>amountAMin</th>\n",
              "      <th>amountBMin</th>\n",
              "      <th>liquidity</th>\n",
              "      <th>to</th>\n",
              "      <th>deadline</th>\n",
              "      <th>tokenA_sysmbol</th>\n",
              "      <th>tokenB_sysmbol</th>\n",
              "    </tr>\n",
              "  </thead>\n",
              "  <tbody>\n",
              "    <tr>\n",
              "      <th>76836</th>\n",
              "      <td>0x134bf9db48b1aafe93d409e3ba1489e47822767b6ca4...</td>\n",
              "      <td>0x01c51aa0ee555b8f6bb6358f9042ac6fb55c9780</td>\n",
              "      <td>2020-11-19 19:41:44+00:00</td>\n",
              "      <td>1</td>\n",
              "      <td>removeLiquidityETHWithPermit</td>\n",
              "      <td>0xc02aaa39b223fe8d0a0e5c4f27ead9083c756cc2</td>\n",
              "      <td>0x0bc529c00c6401aef6d220be8c6ea1667f6ad93e</td>\n",
              "      <td>NaN</td>\n",
              "      <td>NaN</td>\n",
              "      <td>264986657521972630</td>\n",
              "      <td>4411467706445154</td>\n",
              "      <td>21375930030959789</td>\n",
              "      <td>0x01c51aa0ee555b8f6bb6358f9042ac6fb55c9780</td>\n",
              "      <td>1605816054</td>\n",
              "      <td>WETH</td>\n",
              "      <td>NaN</td>\n",
              "    </tr>\n",
              "    <tr>\n",
              "      <th>76960</th>\n",
              "      <td>0x7271bf135c19bff261daab19e02b4f6d486676d75a13...</td>\n",
              "      <td>0x01c51aa0ee555b8f6bb6358f9042ac6fb55c9780</td>\n",
              "      <td>2020-11-19 19:09:32+00:00</td>\n",
              "      <td>1</td>\n",
              "      <td>addLiquidityETH</td>\n",
              "      <td>0xc02aaa39b223fe8d0a0e5c4f27ead9083c756cc2</td>\n",
              "      <td>0x6b3595068778dd592e39a122f4f5a5cf09c90fe2</td>\n",
              "      <td>NaN</td>\n",
              "      <td>647901895077386018109</td>\n",
              "      <td>2075038752381912207</td>\n",
              "      <td>615506800323516717203</td>\n",
              "      <td>NaN</td>\n",
              "      <td>0x01c51aa0ee555b8f6bb6358f9042ac6fb55c9780</td>\n",
              "      <td>1605814166</td>\n",
              "      <td>WETH</td>\n",
              "      <td>NaN</td>\n",
              "    </tr>\n",
              "    <tr>\n",
              "      <th>89495</th>\n",
              "      <td>0x8fee4460ed3c2d4d5513421c7752b97228d0ed5fe062...</td>\n",
              "      <td>0x01c51aa0ee555b8f6bb6358f9042ac6fb55c9780</td>\n",
              "      <td>2020-11-17 15:11:28+00:00</td>\n",
              "      <td>1</td>\n",
              "      <td>addLiquidity</td>\n",
              "      <td>0x04fa0d235c4abf4bcf4787af4cf447de572ef828</td>\n",
              "      <td>0xc02aaa39b223fe8d0a0e5c4f27ead9083c756cc2</td>\n",
              "      <td>61473368893425958408</td>\n",
              "      <td>1076317062736528769</td>\n",
              "      <td>61166002048958828615</td>\n",
              "      <td>1070935477422846125</td>\n",
              "      <td>NaN</td>\n",
              "      <td>0x01c51aa0ee555b8f6bb6358f9042ac6fb55c9780</td>\n",
              "      <td>1605627039</td>\n",
              "      <td>NaN</td>\n",
              "      <td>WETH</td>\n",
              "    </tr>\n",
              "    <tr>\n",
              "      <th>90406</th>\n",
              "      <td>0x547a5651369eb23981f7cc74b7d2c76d22f1385e9a25...</td>\n",
              "      <td>0x01c51aa0ee555b8f6bb6358f9042ac6fb55c9780</td>\n",
              "      <td>2020-11-17 15:51:33+00:00</td>\n",
              "      <td>1</td>\n",
              "      <td>addLiquidity</td>\n",
              "      <td>0x0bc529c00c6401aef6d220be8c6ea1667f6ad93e</td>\n",
              "      <td>0xc02aaa39b223fe8d0a0e5c4f27ead9083c756cc2</td>\n",
              "      <td>5253373324672723</td>\n",
              "      <td>223682937263471231</td>\n",
              "      <td>5227106458049359</td>\n",
              "      <td>222564522577153874</td>\n",
              "      <td>NaN</td>\n",
              "      <td>0x01c51aa0ee555b8f6bb6358f9042ac6fb55c9780</td>\n",
              "      <td>1605629474</td>\n",
              "      <td>NaN</td>\n",
              "      <td>WETH</td>\n",
              "    </tr>\n",
              "    <tr>\n",
              "      <th>93795</th>\n",
              "      <td>0x44f646c1153c109c47cd223f121e870684d6822ab593...</td>\n",
              "      <td>0x01c51aa0ee555b8f6bb6358f9042ac6fb55c9780</td>\n",
              "      <td>2020-11-14 12:20:27+00:00</td>\n",
              "      <td>1</td>\n",
              "      <td>addLiquidityETH</td>\n",
              "      <td>0xc02aaa39b223fe8d0a0e5c4f27ead9083c756cc2</td>\n",
              "      <td>0xcaaa93712bdac37f736c323c93d4d5fdefcc31cc</td>\n",
              "      <td>NaN</td>\n",
              "      <td>5120032102456436732925</td>\n",
              "      <td>950000000000000000</td>\n",
              "      <td>4864030497333614896278</td>\n",
              "      <td>NaN</td>\n",
              "      <td>0x01c51aa0ee555b8f6bb6358f9042ac6fb55c9780</td>\n",
              "      <td>1605357604</td>\n",
              "      <td>WETH</td>\n",
              "      <td>CRD</td>\n",
              "    </tr>\n",
              "    <tr>\n",
              "      <th>157577</th>\n",
              "      <td>0xb20e0e7a65dc19abc451c85197e21d5d01cee45861bc...</td>\n",
              "      <td>0x01c51aa0ee555b8f6bb6358f9042ac6fb55c9780</td>\n",
              "      <td>2020-11-15 18:14:39+00:00</td>\n",
              "      <td>1</td>\n",
              "      <td>addLiquidityETH</td>\n",
              "      <td>0xc02aaa39b223fe8d0a0e5c4f27ead9083c756cc2</td>\n",
              "      <td>0x6b3595068778dd592e39a122f4f5a5cf09c90fe2</td>\n",
              "      <td>NaN</td>\n",
              "      <td>154976377977677540476</td>\n",
              "      <td>415697497798979428</td>\n",
              "      <td>147227559078793663452</td>\n",
              "      <td>NaN</td>\n",
              "      <td>0x01c51aa0ee555b8f6bb6358f9042ac6fb55c9780</td>\n",
              "      <td>1605465264</td>\n",
              "      <td>WETH</td>\n",
              "      <td>NaN</td>\n",
              "    </tr>\n",
              "  </tbody>\n",
              "</table>\n",
              "</div>"
            ],
            "text/plain": [
              "                                                     hash  ... tokenB_sysmbol\n",
              "76836   0x134bf9db48b1aafe93d409e3ba1489e47822767b6ca4...  ...            NaN\n",
              "76960   0x7271bf135c19bff261daab19e02b4f6d486676d75a13...  ...            NaN\n",
              "89495   0x8fee4460ed3c2d4d5513421c7752b97228d0ed5fe062...  ...           WETH\n",
              "90406   0x547a5651369eb23981f7cc74b7d2c76d22f1385e9a25...  ...           WETH\n",
              "93795   0x44f646c1153c109c47cd223f121e870684d6822ab593...  ...            CRD\n",
              "157577  0xb20e0e7a65dc19abc451c85197e21d5d01cee45861bc...  ...            NaN\n",
              "\n",
              "[6 rows x 16 columns]"
            ]
          },
          "metadata": {
            "tags": []
          },
          "execution_count": 343
        }
      ]
    }
  ]
}